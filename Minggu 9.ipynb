{
 "cells": [
  {
   "cell_type": "markdown",
   "metadata": {},
   "source": [
    "# Algoritma PageRank\n",
    "### adalah sebuah algoritma yang berfungsi menentukan situs web mana yang lebih penting/populer. PageRank merupakan salah satu fitur utama mesin pencari Google dan diciptakan oleh pendirinya, Larry Page dan Sergey Brin yang merupakan mahasiswa Ph.D. Universitas Stanford. Dengan algoritma PageRank ini, dalam setiap halaman akan diperhitungkan inbound link (link masuk) dan outbound link (link keluar) dari setiap halaman web. Sebuah situs akan semakin populer jika semakin banyak situs lain yang meletakkan link yang mengarah ke situsnya, dengan asumsi isi / content situs tersebut lebih berguna dari isi/content situs lain. PageRank dihitung dengan skala 0-10, di mana semakin besar nilai PageRank sebuah situs, maka semakin tinggi rankingnya. Pada PageRank, ranking tertinggi adalah 10, sementara situs-situs pemula berada pada PageRank 0."
   ]
  },
  {
   "cell_type": "code",
   "execution_count": 2,
   "metadata": {},
   "outputs": [
    {
     "data": {
      "image/png": "[encoded data removed]",
      "text/plain": [
       "<Figure size 432x288 with 1 Axes>"
      ]
     },
     "metadata": {},
     "output_type": "display_data"
    }
   ],
   "source": [
    "# Mempersiapkan library\n",
    "import numpy as np\n",
    "import networkx as nx\n",
    "import matplotlib.pyplot as plt\n",
    "%matplotlib inline\n",
    "# Mendefinisikan array\n",
    "myWeb = nx.DiGraph()\n",
    "myPages = range(1,3)\n",
    "# Menarik garis koneksi\n",
    "connections = [(1,2),(2,3),(3,1)]\n",
    "myWeb.add_nodes_from(myPages)\n",
    "myWeb.add_edges_from(connections)\n",
    "# Melakukan plotting\n",
    "pos=nx.shell_layout(myWeb)\n",
    "nx.draw(myWeb, pos, arrows=True, with_labels=True)\n",
    "plt.show()"
   ]
  },
  {
   "cell_type": "code",
   "execution_count": 3,
   "metadata": {},
   "outputs": [],
   "source": [
    "def createPageRank(aGraph):\n",
    "    nodes_set = len(aGraph)\n",
    "    M = nx.to_numpy_matrix(aGraph)\n",
    "    outwards = np.squeeze(np.asarray(np.sum(M, axis=1)))\n",
    "    prob_outwards = np.array(\n",
    "         [1.0/count\n",
    "         if count>0 else 0.0 for count in outwards])\n",
    "    G = np.asarray(np.multiply(M.T, prob_outwards))\n",
    "    p = np.ones(nodes_set)/float(nodes_set)\n",
    "    if np.min(np.sum(G,axis=0)) < 1.0:\n",
    "        print('WARN: G is substochastic')\n",
    "    return G,p"
   ]
  },
  {
   "cell_type": "code",
   "execution_count": 4,
   "metadata": {},
   "outputs": [
    {
     "name": "stdout",
     "output_type": "stream",
     "text": [
      "[[0. 0. 1.]\n",
      " [1. 0. 0.]\n",
      " [0. 1. 0.]]\n"
     ]
    }
   ],
   "source": [
    "\n",
    "G,p = createPageRank(myWeb)\n",
    "print(G)"
   ]
  },
  {
   "cell_type": "code",
   "execution_count": null,
   "metadata": {},
   "outputs": [],
   "source": []
  }
 ],
 "metadata": {
  "kernelspec": {
   "display_name": "Python 3",
   "language": "python",
   "name": "python3"
  },
  "language_info": {
   "codemirror_mode": {
    "name": "ipython",
    "version": 3
   },
   "file_extension": ".py",
   "mimetype": "text/x-python",
   "name": "python",
   "nbconvert_exporter": "python",
   "pygments_lexer": "ipython3",
   "version": "3.8.3"
  }
 },
 "nbformat": 4,
 "nbformat_minor": 4
}
